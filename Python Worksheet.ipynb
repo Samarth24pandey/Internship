{
 "cells": [
  {
   "cell_type": "markdown",
   "id": "4c4bf3d9",
   "metadata": {},
   "source": [
    "Pyhton program to find factorial\n"
   ]
  },
  {
   "cell_type": "code",
   "execution_count": 8,
   "id": "64c98660",
   "metadata": {},
   "outputs": [
    {
     "name": "stdout",
     "output_type": "stream",
     "text": [
      "Factorial of 5 is None\n"
     ]
    }
   ],
   "source": [
    "def factorial(n):\n",
    "    if n < 0:\n",
    "        return 0\n",
    "    elif n == 0 or n == 1:\n",
    "        return 1\n",
    "    else:\n",
    "        fact = 1\n",
    "        while(n > 1):\n",
    "            fact *= n\n",
    "            n -= 1\n",
    "num = 5\n",
    "print(\"Factorial of\",num,\"is\",factorial(num))\n"
   ]
  },
  {
   "cell_type": "code",
   "execution_count": 9,
   "id": "a0e0d5cc",
   "metadata": {},
   "outputs": [
    {
     "name": "stdout",
     "output_type": "stream",
     "text": [
      "Factorial of 5 is 120\n"
     ]
    }
   ],
   "source": [
    "import math\n",
    "\n",
    "def factorial(n):\n",
    "    return(math.factorial(n))\n",
    "num = 5\n",
    "print(\"Factorial of\",num,\"is\",factorial(num))"
   ]
  },
  {
   "cell_type": "markdown",
   "id": "43f1f39a",
   "metadata": {},
   "source": [
    "To find if the number is prime or composite"
   ]
  },
  {
   "cell_type": "code",
   "execution_count": 12,
   "id": "fcb6ab81",
   "metadata": {},
   "outputs": [
    {
     "name": "stdout",
     "output_type": "stream",
     "text": [
      "False\n",
      "True\n"
     ]
    }
   ],
   "source": [
    "import math  \n",
    "def is_prime(n):\n",
    "    if n < 2:\n",
    "        return False\n",
    "    i = 2\n",
    "    while i*i <= n:\n",
    "        if n % i == 0:\n",
    "            return False\n",
    "        i += 1\n",
    "    return True\n",
    "print(is_prime(18))\n",
    "print(is_prime(5))"
   ]
  },
  {
   "cell_type": "markdown",
   "id": "15aa438e",
   "metadata": {},
   "source": [
    "To check if a string is palindrome or not"
   ]
  },
  {
   "cell_type": "code",
   "execution_count": 16,
   "id": "ed902882",
   "metadata": {},
   "outputs": [
    {
     "name": "stdout",
     "output_type": "stream",
     "text": [
      "Enter string:Samarth\n",
      "The string is not a palindrome\n"
     ]
    }
   ],
   "source": [
    "string = input(\"Enter string:\")\n",
    "if(string==string[::-1]):\n",
    "    print(\"The string is a palindrome\")\n",
    "else:\n",
    "    print(\"The string is not a palindrome\")"
   ]
  },
  {
   "cell_type": "code",
   "execution_count": 25,
   "id": "600c8508",
   "metadata": {},
   "outputs": [
    {
     "name": "stdout",
     "output_type": "stream",
     "text": [
      "Enter string:naman\n",
      "The string is a palindrome\n"
     ]
    }
   ],
   "source": [
    "string = input(\"Enter string:\")\n",
    "if(string==string[::-1]):\n",
    "    print(\"The string is a palindrome\")\n",
    "else:\n",
    "    print(\"The string is not a palindrome\")"
   ]
  },
  {
   "cell_type": "markdown",
   "id": "926a3659",
   "metadata": {},
   "source": [
    "To get the third side of the right angle triangle"
   ]
  },
  {
   "cell_type": "code",
   "execution_count": 27,
   "id": "107b4e77",
   "metadata": {},
   "outputs": [],
   "source": [
    "def pythagoras(opposite_side,adjacent_side,hypotenuse):\n",
    "    if opposite_side == str(\"X\"):\n",
    "        return (\"opposite =\" + str(((hypotenuse**2) -(adjacent_side**2))**0.5))\n",
    "    elif adjacent_side == str(\"X\"):\n",
    "        return(\"Adjacent =\" + str(((hypotenuse_side**2) + (opposite_side**2))**0.5))\n",
    "    elif hypotenuse == str(\"X\"):\n",
    "        return(\"Hypotenuse =\" + str(((opposite_side**2) +(adjacent_side**2))**0.5))\n",
    "    else:\n",
    "        return \"The answer is Five!\"\n",
    "    print(pythagoras(3,4,\"X\"))\n",
    "    print(pythagoras(3,\"x\",5))\n",
    "    print(pythagoras(\"x\",4,5))"
   ]
  },
  {
   "cell_type": "markdown",
   "id": "8ea45dac",
   "metadata": {},
   "source": [
    "To print the frequency of each of the character in a given string"
   ]
  },
  {
   "cell_type": "code",
   "execution_count": 30,
   "id": "860ea49a",
   "metadata": {},
   "outputs": [
    {
     "name": "stdout",
     "output_type": "stream",
     "text": [
      "Given String: Lifesaver\n",
      "Frequency of each character:\n",
      "  {'L': 1, 'i': 1, 'f': 1, 'e': 2, 's': 1, 'a': 1, 'v': 1, 'r': 1}\n"
     ]
    }
   ],
   "source": [
    "from collections import Counter\n",
    "strA = \"Lifesaver\"\n",
    "print(\"Given String:\",strA)\n",
    "res ={}\n",
    "for keys in strA:\n",
    "    res[keys] = res.get(keys, 0) + 1\n",
    "print(\"Frequency of each character:\\n \",res)\n"
   ]
  },
  {
   "cell_type": "code",
   "execution_count": null,
   "id": "d77ec764",
   "metadata": {},
   "outputs": [],
   "source": []
  }
 ],
 "metadata": {
  "kernelspec": {
   "display_name": "Python 3 (ipykernel)",
   "language": "python",
   "name": "python3"
  },
  "language_info": {
   "codemirror_mode": {
    "name": "ipython",
    "version": 3
   },
   "file_extension": ".py",
   "mimetype": "text/x-python",
   "name": "python",
   "nbconvert_exporter": "python",
   "pygments_lexer": "ipython3",
   "version": "3.9.12"
  }
 },
 "nbformat": 4,
 "nbformat_minor": 5
}
