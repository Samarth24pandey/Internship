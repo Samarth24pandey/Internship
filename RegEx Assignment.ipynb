{
 "cells": [
  {
   "cell_type": "markdown",
   "id": "d0a3a813",
   "metadata": {},
   "source": [
    "# Regular Expressions"
   ]
  },
  {
   "cell_type": "markdown",
   "id": "b8d3cc91",
   "metadata": {},
   "source": [
    "Question 1- Write a Python program to check that a string contains only a certain set of characters (in this case a-z, A-Z and 0-9)."
   ]
  },
  {
   "cell_type": "code",
   "execution_count": 3,
   "id": "e462fded",
   "metadata": {},
   "outputs": [
    {
     "name": "stdout",
     "output_type": "stream",
     "text": [
      "True\n",
      "False\n"
     ]
    }
   ],
   "source": [
    "import re\n",
    "\n",
    "def is_allowed_specific_char(string):\n",
    "    charRe = re.compile(r'[^a-zA-Z0-9.]')\n",
    "    string = charRe.search(string)\n",
    "    return not bool(string)\n",
    "\n",
    "print(is_allowed_specific_char (\"ABCDEFabcdef123450\"))\n",
    "print(is_allowed_specific_char (\"*&%@#!}\"))\n"
   ]
  },
  {
   "cell_type": "code",
   "execution_count": null,
   "id": "68afa05b",
   "metadata": {},
   "outputs": [],
   "source": []
  },
  {
   "cell_type": "markdown",
   "id": "880c571e",
   "metadata": {},
   "source": [
    "Question 2- Create a function in python that matches a string that has an a followed by zero or more "
   ]
  },
  {
   "cell_type": "code",
   "execution_count": 3,
   "id": "9885fe76",
   "metadata": {},
   "outputs": [
    {
     "name": "stdout",
     "output_type": "stream",
     "text": [
      "True\n",
      "False\n",
      "True\n",
      "False\n"
     ]
    }
   ],
   "source": [
    "import re\n",
    "\n",
    "def match_string(string):\n",
    "    pattern = r'^a(b*)$'\n",
    "    if re.match(pattern, string):\n",
    "        return True\n",
    "    else:\n",
    "        return False\n",
    "\n",
    "print(match_string('ab'))\n",
    "print(match_string('abc'))\n",
    "print(match_string('a'))\n",
    "print(match_string('ac'))\n"
   ]
  },
  {
   "cell_type": "code",
   "execution_count": null,
   "id": "efaa045c",
   "metadata": {},
   "outputs": [],
   "source": []
  },
  {
   "cell_type": "markdown",
   "id": "0f065270",
   "metadata": {},
   "source": [
    "Question 3-  Create a function in python that matches a string that has an a followed by one or more b's"
   ]
  },
  {
   "cell_type": "code",
   "execution_count": 1,
   "id": "5266c25a",
   "metadata": {},
   "outputs": [
    {
     "name": "stdout",
     "output_type": "stream",
     "text": [
      "Found a match!\n",
      "Found a match!\n"
     ]
    }
   ],
   "source": [
    "import re\n",
    "\n",
    "def match_string(text):\n",
    "    pattern = 'ab+?'\n",
    "    if re.search(pattern, text):\n",
    "        return 'Found a match!'\n",
    "    else:\n",
    "        return 'Not matched!'\n",
    "\n",
    "print(match_string('ab'))\n",
    "print(match_string('abc'))\n"
   ]
  },
  {
   "cell_type": "code",
   "execution_count": null,
   "id": "ae325478",
   "metadata": {},
   "outputs": [],
   "source": []
  },
  {
   "cell_type": "markdown",
   "id": "51817837",
   "metadata": {},
   "source": [
    "Question 4- Create a function in Python and use RegEx that matches a string that has an a followed by zero or one 'b'."
   ]
  },
  {
   "cell_type": "code",
   "execution_count": 4,
   "id": "6d93ea71",
   "metadata": {},
   "outputs": [
    {
     "name": "stdout",
     "output_type": "stream",
     "text": [
      "Found a match!\n",
      "Not matched!\n"
     ]
    }
   ],
   "source": [
    "import re\n",
    "\n",
    "def match_string(text):\n",
    "    pattern = '^a(b)?$'\n",
    "    if re.search(pattern, text):\n",
    "        return 'Found a match!'\n",
    "    else:\n",
    "        return 'Not matched!'\n",
    "\n",
    "print(match_string('ab'))\n",
    "print(match_string('abc'))\n"
   ]
  },
  {
   "cell_type": "code",
   "execution_count": null,
   "id": "d0ee9777",
   "metadata": {},
   "outputs": [],
   "source": []
  },
  {
   "cell_type": "markdown",
   "id": "a5738eb0",
   "metadata": {},
   "source": [
    "Question 6- Write a regular expression in Python to split a string into uppercase letters.\n",
    "Sample text: “ImportanceOfRegularExpressionsInPython”\n"
   ]
  },
  {
   "cell_type": "code",
   "execution_count": 10,
   "id": "f8eee604",
   "metadata": {},
   "outputs": [
    {
     "name": "stdout",
     "output_type": "stream",
     "text": [
      "['I', 'O', 'R', 'E', 'I', 'P']\n"
     ]
    }
   ],
   "source": [
    "import re\n",
    "\n",
    "text = 'ImportanceOfRegularExpressionInPython'\n",
    "pattern = '[A-Z]'\n",
    "result = re.findall(pattern, text)\n",
    "\n",
    "print(result)"
   ]
  },
  {
   "cell_type": "code",
   "execution_count": null,
   "id": "e207505b",
   "metadata": {},
   "outputs": [],
   "source": []
  },
  {
   "cell_type": "markdown",
   "id": "1c04b04e",
   "metadata": {},
   "source": [
    "Question 7- Write a Python program that matches a string that has an a followed by two to three 'b'."
   ]
  },
  {
   "cell_type": "code",
   "execution_count": 11,
   "id": "3a060704",
   "metadata": {},
   "outputs": [
    {
     "name": "stdout",
     "output_type": "stream",
     "text": [
      "Found a match!\n",
      "Found a match!\n",
      "Not matched!\n"
     ]
    }
   ],
   "source": [
    "import re\n",
    "\n",
    "def match_string(text):\n",
    "    pattern = '^a(b{2,3})$'\n",
    "    if re.search(pattern,text):\n",
    "        return 'Found a match!'\n",
    "    else:\n",
    "        return 'Not matched!'\n",
    "    \n",
    "print(match_string('abb'))\n",
    "print(match_string('abbb'))\n",
    "print(match_string('abbbb'))\n"
   ]
  },
  {
   "cell_type": "code",
   "execution_count": null,
   "id": "38440641",
   "metadata": {},
   "outputs": [],
   "source": []
  },
  {
   "cell_type": "markdown",
   "id": "16e66ceb",
   "metadata": {},
   "source": [
    "Question 8- Write a Python program to find sequences of lowercase letters joined with a underscore."
   ]
  },
  {
   "cell_type": "code",
   "execution_count": 12,
   "id": "612a1235",
   "metadata": {},
   "outputs": [
    {
     "name": "stdout",
     "output_type": "stream",
     "text": [
      "['this_is', 'a_string', 'with_underscores']\n"
     ]
    }
   ],
   "source": [
    "import re\n",
    "\n",
    "text = \"this_is_a_string_with_underscores\"\n",
    "pattern = '[a-z]+_[a-z]+'\n",
    "result = re.findall(pattern,text)\n",
    "\n",
    "print(result)"
   ]
  },
  {
   "cell_type": "code",
   "execution_count": null,
   "id": "345b1ae9",
   "metadata": {},
   "outputs": [],
   "source": []
  },
  {
   "cell_type": "markdown",
   "id": "6b305bce",
   "metadata": {},
   "source": [
    "Question 9- Write a Python program that matches a string that has an 'a' followed by anything, ending in 'b'."
   ]
  },
  {
   "cell_type": "code",
   "execution_count": 13,
   "id": "cdb91f33",
   "metadata": {},
   "outputs": [
    {
     "name": "stdout",
     "output_type": "stream",
     "text": [
      "Found a match!\n",
      "Found a match!\n",
      "Not matched!\n"
     ]
    }
   ],
   "source": [
    "import re\n",
    "\n",
    "def match_string(text):\n",
    "    pattern = '^a.*b$'\n",
    "    if re.search(pattern, text):\n",
    "        return 'Found a match!'\n",
    "    else:\n",
    "        return 'Not matched!'\n",
    "\n",
    "print(match_string('acb'))\n",
    "print(match_string('a1b'))\n",
    "print(match_string('a2b3'))\n"
   ]
  },
  {
   "cell_type": "code",
   "execution_count": null,
   "id": "f8e48b55",
   "metadata": {},
   "outputs": [],
   "source": []
  },
  {
   "cell_type": "markdown",
   "id": "26e788c6",
   "metadata": {},
   "source": [
    "Question 10- Write a Python program that matches a word at the beginning of a string."
   ]
  },
  {
   "cell_type": "code",
   "execution_count": 40,
   "id": "7c8cf82a",
   "metadata": {},
   "outputs": [
    {
     "name": "stdout",
     "output_type": "stream",
     "text": [
      "Found a match!\n",
      "Found a match!\n",
      "Found a match!\n"
     ]
    }
   ],
   "source": [
    "import re\n",
    " \n",
    "def match_string(text):\n",
    "    pattern = '^\\w+'\n",
    "    if re.search(pattern,text):\n",
    "        return 'Found a match!'\n",
    "    else:\n",
    "        return 'NOt matched!'\n",
    "    \n",
    "print(match_string('Hello world!'))\n",
    "print(match_string('Python is awesome'))\n",
    "print(match_string('24 is the answer'))"
   ]
  },
  {
   "cell_type": "code",
   "execution_count": null,
   "id": "a335850f",
   "metadata": {},
   "outputs": [],
   "source": []
  },
  {
   "cell_type": "markdown",
   "id": "5dd24dc0",
   "metadata": {},
   "source": [
    "Question 11- Write a Python program to match a string that contains only upper and lowercase letters, numbers, and underscores."
   ]
  },
  {
   "cell_type": "code",
   "execution_count": 15,
   "id": "c9529eef",
   "metadata": {},
   "outputs": [
    {
     "name": "stdout",
     "output_type": "stream",
     "text": [
      "Found a match!\n",
      "Not matched!\n",
      "Found a match!\n"
     ]
    }
   ],
   "source": [
    "import re\n",
    "\n",
    "def match_string(text):\n",
    "    pattern = '^[a-zA-Z0-9_]*$'\n",
    "    if re.search(pattern, text):\n",
    "        return 'Found a match!'\n",
    "    else:\n",
    "        return 'Not matched!'\n",
    "\n",
    "print(match_string('Hello_world_42'))\n",
    "print(match_string('Python_is_awesome!'))\n",
    "print(match_string('42_is_the_answer'))\n"
   ]
  },
  {
   "cell_type": "code",
   "execution_count": null,
   "id": "d3fead40",
   "metadata": {},
   "outputs": [],
   "source": []
  },
  {
   "cell_type": "markdown",
   "id": "5a709464",
   "metadata": {},
   "source": [
    "Question 12- Write a Python program where a string will start with a specific number. "
   ]
  },
  {
   "cell_type": "code",
   "execution_count": 16,
   "id": "be082aae",
   "metadata": {},
   "outputs": [
    {
     "name": "stdout",
     "output_type": "stream",
     "text": [
      "Found a match!\n",
      "Not matched!\n",
      "Not matched!\n"
     ]
    }
   ],
   "source": [
    "import re\n",
    "\n",
    "def match_string(text):\n",
    "    pattern = '^5.*'\n",
    "    if re.search(pattern, text):\n",
    "        return 'Found a match!'\n",
    "    else:\n",
    "        return 'Not matched!'\n",
    "\n",
    "print(match_string('5 is the answer.'))\n",
    "print(match_string('42 is the answer.'))\n",
    "print(match_string('The answer is 5.'))\n"
   ]
  },
  {
   "cell_type": "code",
   "execution_count": null,
   "id": "b6fd1421",
   "metadata": {},
   "outputs": [],
   "source": []
  },
  {
   "cell_type": "markdown",
   "id": "5f39ae95",
   "metadata": {},
   "source": [
    "Question 13- Write a Python program to remove leading zeros from an IP address"
   ]
  },
  {
   "cell_type": "code",
   "execution_count": 18,
   "id": "8b9142f5",
   "metadata": {},
   "outputs": [
    {
     "name": "stdout",
     "output_type": "stream",
     "text": [
      "192.168.1.1\n"
     ]
    }
   ],
   "source": [
    "import re\n",
    "\n",
    "def remove_leading_zeros(ip_address):\n",
    "    pattern = '\\.(0+)'\n",
    "    result = re.sub(pattern, '.', ip_address)\n",
    "    return result\n",
    "\n",
    "ip_address = '192.168.001.001'\n",
    "print(remove_leading_zeros(ip_address))\n"
   ]
  },
  {
   "cell_type": "code",
   "execution_count": null,
   "id": "cc8e3ca4",
   "metadata": {},
   "outputs": [],
   "source": []
  },
  {
   "cell_type": "markdown",
   "id": "44b60f72",
   "metadata": {},
   "source": [
    "Question 14- Write a regular expression in python to match a date string in the form of Month name followed by day number and year stored in a text file.\n",
    "Sample text : 'On August 15th 1947 that India was declared independent from British colonialism, and the reins of control were handed over to the leaders of the Country’.\n"
   ]
  },
  {
   "cell_type": "code",
   "execution_count": 22,
   "id": "65ae105d",
   "metadata": {},
   "outputs": [
    {
     "name": "stdout",
     "output_type": "stream",
     "text": [
      "August 15th 1947\n"
     ]
    }
   ],
   "source": [
    "import re\n",
    "\n",
    "text = \"On August 15th 1947 that India was declared independent from British colonialism, and the reins of control were handed over to the leaders of the Country’.\"\n",
    "pattern = r\"([A-Z][a-z]+)\\s(\\d{1,2})\\w{2}\\s(\\d{4})\"\n",
    "match = re.search(pattern, text)\n",
    "if match:\n",
    "    print(match.group())\n"
   ]
  },
  {
   "cell_type": "code",
   "execution_count": null,
   "id": "617d41cd",
   "metadata": {},
   "outputs": [],
   "source": [
    "\n"
   ]
  },
  {
   "cell_type": "markdown",
   "id": "5770a086",
   "metadata": {},
   "source": [
    "Question 15- Write a Python program to search some literals strings in a string. Go to the editor\n",
    "Sample text : 'The quick brown fox jumps over the lazy dog.'\n"
   ]
  },
  {
   "cell_type": "code",
   "execution_count": 23,
   "id": "66eea9a5",
   "metadata": {},
   "outputs": [
    {
     "name": "stdout",
     "output_type": "stream",
     "text": [
      "'fox' found in 'The quick brown fox jumps over the lazy dog.'\n",
      "'dog' found in 'The quick brown fox jumps over the lazy dog.'\n",
      "'horse' not found in 'The quick brown fox jumps over the lazy dog.'\n"
     ]
    }
   ],
   "source": [
    "text = 'The quick brown fox jumps over the lazy dog.'\n",
    "search_strings = ['fox', 'dog', 'horse']\n",
    "\n",
    "for search_string in search_strings:\n",
    "    if search_string in text:\n",
    "        print(f\"'{search_string}' found in '{text}'\")\n",
    "    else:\n",
    "        print(f\"'{search_string}' not found in '{text}'\")\n"
   ]
  },
  {
   "cell_type": "code",
   "execution_count": null,
   "id": "e1cf5aa5",
   "metadata": {},
   "outputs": [],
   "source": []
  },
  {
   "cell_type": "markdown",
   "id": "20f18a70",
   "metadata": {},
   "source": [
    "Question 16- Write a Python program to search a literals string in a string and also find the location within the original string where the pattern occurs\n",
    "Sample text : 'The quick brown fox jumps over the lazy dog.'\n"
   ]
  },
  {
   "cell_type": "code",
   "execution_count": 24,
   "id": "0c53eefd",
   "metadata": {},
   "outputs": [
    {
     "name": "stdout",
     "output_type": "stream",
     "text": [
      "'fox' found in 'The quick brown fox jumps over the lazy dog.' at position 16\n"
     ]
    }
   ],
   "source": [
    "import re\n",
    "\n",
    "text = 'The quick brown fox jumps over the lazy dog.'\n",
    "search_string = 'fox'\n",
    "\n",
    "match = re.search(search_string, text)\n",
    "if match:\n",
    "    print(f\"'{search_string}' found in '{text}' at position {match.start()}\")\n",
    "else:\n",
    "    print(f\"'{search_string}' not found in '{text}'\")\n"
   ]
  },
  {
   "cell_type": "code",
   "execution_count": null,
   "id": "01d02da0",
   "metadata": {},
   "outputs": [],
   "source": []
  },
  {
   "cell_type": "markdown",
   "id": "fdabf692",
   "metadata": {},
   "source": [
    "Question 17- Write a Python program to find the substrings within a string.\n",
    "Sample text : 'Python exercises, PHP exercises, C# exercises'\n"
   ]
  },
  {
   "cell_type": "code",
   "execution_count": 25,
   "id": "10687e2d",
   "metadata": {},
   "outputs": [
    {
     "name": "stdout",
     "output_type": "stream",
     "text": [
      "'exercises' found in 'Python exercises, PHP exercises, C# exercises' at positions [7, 22, 36]\n"
     ]
    }
   ],
   "source": [
    "import re\n",
    "\n",
    "text = 'Python exercises, PHP exercises, C# exercises'\n",
    "pattern = 'exercises'\n",
    "\n",
    "matches = re.findall(pattern, text)\n",
    "if matches:\n",
    "    print(f\"'{pattern}' found in '{text}' at positions {[match.start() for match in re.finditer(pattern, text)]}\")\n",
    "else:\n",
    "    print(f\"'{pattern}' not found in '{text}'\")\n",
    "\n",
    "    "
   ]
  },
  {
   "cell_type": "code",
   "execution_count": null,
   "id": "e9ba2a33",
   "metadata": {},
   "outputs": [],
   "source": []
  },
  {
   "cell_type": "markdown",
   "id": "5edf7b89",
   "metadata": {},
   "source": [
    "Question 18- Write a Python program to find the occurrence and position of the substrings within a string."
   ]
  },
  {
   "cell_type": "code",
   "execution_count": 43,
   "id": "0752fcc5",
   "metadata": {},
   "outputs": [
    {
     "name": "stdout",
     "output_type": "stream",
     "text": [
      "Occurrences of Python : [0]\n",
      "Occurrences of programming : [36, 77]\n"
     ]
    }
   ],
   "source": [
    "text = 'Python is an interpreted high-level programming language for general-purpose programming.'\n",
    "substrings = ['Python', 'programming']\n",
    "for substring in substrings:\n",
    "    occurrences = []\n",
    "    start = 0\n",
    "    while True:\n",
    "        start = text.find(substring, start)\n",
    "        if start == -1:\n",
    "            break\n",
    "        occurrences.append(start)\n",
    "        start += len(substring)\n",
    "    print('Occurrences of', substring, ':', occurrences)\n"
   ]
  },
  {
   "cell_type": "code",
   "execution_count": null,
   "id": "4dd90d0c",
   "metadata": {},
   "outputs": [],
   "source": []
  },
  {
   "cell_type": "markdown",
   "id": "f7ed8256",
   "metadata": {},
   "source": [
    "Question 19- Write a Python program to convert a date of yyyy-mm-dd format to dd-mm-yyyy format."
   ]
  },
  {
   "cell_type": "code",
   "execution_count": 26,
   "id": "e4f967c9",
   "metadata": {},
   "outputs": [
    {
     "name": "stdout",
     "output_type": "stream",
     "text": [
      "Original date string: 2023-07-16\n",
      "New date string: 16-07-2023\n"
     ]
    }
   ],
   "source": [
    "import datetime\n",
    "\n",
    "date_string = '2023-07-16'\n",
    "date_object = datetime.datetime.strptime(date_string, '%Y-%m-%d')\n",
    "new_date_string = date_object.strftime('%d-%m-%Y')\n",
    "\n",
    "print(f\"Original date string: {date_string}\")\n",
    "print(f\"New date string: {new_date_string}\")\n"
   ]
  },
  {
   "cell_type": "code",
   "execution_count": null,
   "id": "a13163cc",
   "metadata": {},
   "outputs": [],
   "source": []
  },
  {
   "cell_type": "markdown",
   "id": "60532fda",
   "metadata": {},
   "source": [
    "Question 20- Write a Python program to find all words starting with 'a' or 'e' in a given string."
   ]
  },
  {
   "cell_type": "code",
   "execution_count": 27,
   "id": "c21aafb0",
   "metadata": {},
   "outputs": [
    {
     "name": "stdout",
     "output_type": "stream",
     "text": [
      "Words starting with 'a' or 'e' in 'apple banana elephant antelope eagle': ['apple', 'elephant', 'antelope', 'eagle']\n"
     ]
    }
   ],
   "source": [
    "import re\n",
    "\n",
    "text = 'apple banana elephant antelope eagle'\n",
    "\n",
    "matches = re.findall(r'\\b[a|e]\\w+', text)\n",
    "if matches:\n",
    "    print(f\"Words starting with 'a' or 'e' in '{text}': {matches}\")\n",
    "else:\n",
    "    print(f\"No words starting with 'a' or 'e' found in '{text}'\")\n"
   ]
  },
  {
   "cell_type": "code",
   "execution_count": null,
   "id": "81bab04b",
   "metadata": {},
   "outputs": [],
   "source": []
  },
  {
   "cell_type": "markdown",
   "id": "58194606",
   "metadata": {},
   "source": [
    "Question 21- Write a Python program to separate and print the numbers and their position of a given string."
   ]
  },
  {
   "cell_type": "code",
   "execution_count": 42,
   "id": "673b2665",
   "metadata": {},
   "outputs": [
    {
     "name": "stdout",
     "output_type": "stream",
     "text": [
      "Numbers: ['1', '2', '3', '4', '5', '6', '7', '8', '9']\n",
      "Positions: [3, 4, 5, 9, 10, 11, 15, 16, 17]\n"
     ]
    }
   ],
   "source": [
    "text = 'abc123def456ghi789'\n",
    "numbers = []\n",
    "positions = []\n",
    "for i in range(len(text)):\n",
    "    if text[i].isdigit():\n",
    "        numbers.append(text[i])\n",
    "        positions.append(i)\n",
    "print('Numbers:', numbers)\n",
    "print('Positions:', positions)\n"
   ]
  },
  {
   "cell_type": "code",
   "execution_count": null,
   "id": "2fe8576f",
   "metadata": {},
   "outputs": [],
   "source": []
  },
  {
   "cell_type": "markdown",
   "id": "77ddc53c",
   "metadata": {},
   "source": [
    "Question 22- Write a regular expression in python program to extract maximum numeric value from a string\n"
   ]
  },
  {
   "cell_type": "code",
   "execution_count": 28,
   "id": "b412bb49",
   "metadata": {},
   "outputs": [
    {
     "name": "stdout",
     "output_type": "stream",
     "text": [
      "Numbers in 'The quick brown fox jumps over the 123 lazy dog 456.': ['123', '456']\n",
      "Position of '123': 35\n",
      "Position of '456': 48\n"
     ]
    }
   ],
   "source": [
    "import re\n",
    "\n",
    "text = 'The quick brown fox jumps over the 123 lazy dog 456.'\n",
    "\n",
    "matches = re.findall(r'\\d+', text)\n",
    "if matches:\n",
    "    print(f\"Numbers in '{text}': {matches}\")\n",
    "    for match in matches:\n",
    "        print(f\"Position of '{match}': {text.index(match)}\")\n",
    "else:\n",
    "    print(f\"No numbers found in '{text}'\")\n"
   ]
  },
  {
   "cell_type": "code",
   "execution_count": null,
   "id": "c65b0eae",
   "metadata": {},
   "outputs": [],
   "source": []
  },
  {
   "cell_type": "markdown",
   "id": "ffeb2b69",
   "metadata": {},
   "source": [
    "Question 23- Write a Regex in Python to put spaces between words starting with capital letters"
   ]
  },
  {
   "cell_type": "code",
   "execution_count": 29,
   "id": "c8851a33",
   "metadata": {},
   "outputs": [
    {
     "name": "stdout",
     "output_type": "stream",
     "text": [
      "Original text: TheQuickBrownFoxJumpsOverTheLazyDog\n",
      "New text: The Quick Brown Fox Jumps Over The Lazy Dog\n"
     ]
    }
   ],
   "source": [
    "import re\n",
    "\n",
    "text = 'TheQuickBrownFoxJumpsOverTheLazyDog'\n",
    "\n",
    "new_text = re.sub(r'(?<!^)(?=[A-Z])', ' ', text)\n",
    "print(f\"Original text: {text}\")\n",
    "print(f\"New text: {new_text}\")\n"
   ]
  },
  {
   "cell_type": "code",
   "execution_count": null,
   "id": "3278bd7e",
   "metadata": {},
   "outputs": [],
   "source": []
  },
  {
   "cell_type": "markdown",
   "id": "40af97e2",
   "metadata": {},
   "source": [
    "Question 24- Python regex to find sequences of one upper case letter followed by lower case letters\n"
   ]
  },
  {
   "cell_type": "code",
   "execution_count": 30,
   "id": "387991d8",
   "metadata": {},
   "outputs": [
    {
     "name": "stdout",
     "output_type": "stream",
     "text": [
      "Sequences of one upper case letter followed by lower case letters in 'TheElephantTriesToCrossTheRiverWithTheBaby': ['The', 'Elephant', 'Tries', 'To', 'Cross', 'The', 'River', 'With', 'The', 'Baby']\n"
     ]
    }
   ],
   "source": [
    "import re\n",
    "\n",
    "text = 'TheElephantTriesToCrossTheRiverWithTheBaby'\n",
    "matches = re.findall(r'[A-Z][a-z]+', text)\n",
    "if matches:\n",
    "    print(f\"Sequences of one upper case letter followed by lower case letters in '{text}': {matches}\")\n",
    "else:\n",
    "    print(f\"No sequences of one upper case letter followed by lower case letters found in '{text}'\")\n"
   ]
  },
  {
   "cell_type": "code",
   "execution_count": null,
   "id": "5abb10d3",
   "metadata": {},
   "outputs": [],
   "source": []
  },
  {
   "cell_type": "markdown",
   "id": "34f4fcda",
   "metadata": {},
   "source": [
    "Question 25- Write a Python program to remove duplicate words from Sentence using Regular Expression"
   ]
  },
  {
   "cell_type": "code",
   "execution_count": 31,
   "id": "e0664e80",
   "metadata": {},
   "outputs": [
    {
     "name": "stdout",
     "output_type": "stream",
     "text": [
      "Original text: The quick brown fox jumps over the lazy dog the quick brown fox\n",
      "New text: The    jumps over  lazy dog the quick brown fox\n"
     ]
    }
   ],
   "source": [
    "import re\n",
    "\n",
    "text = 'The quick brown fox jumps over the lazy dog the quick brown fox'\n",
    "\n",
    "new_text = re.sub(r'\\b(\\w+)\\b(?=.*\\b\\1\\b)', '', text)\n",
    "print(f\"Original text: {text}\")\n",
    "print(f\"New text: {new_text}\")\n"
   ]
  },
  {
   "cell_type": "code",
   "execution_count": null,
   "id": "c933a920",
   "metadata": {},
   "outputs": [],
   "source": []
  },
  {
   "cell_type": "markdown",
   "id": "97ee2e0b",
   "metadata": {},
   "source": [
    "Question 26-  Write a python program using RegEx to accept string ending with alphanumeric character.\n"
   ]
  },
  {
   "cell_type": "code",
   "execution_count": 33,
   "id": "44b91f28",
   "metadata": {},
   "outputs": [
    {
     "name": "stdout",
     "output_type": "stream",
     "text": [
      "'The Elephant Tries To Cross The River With The Baby 245' ends with an alphanumeric character\n"
     ]
    }
   ],
   "source": [
    "import re\n",
    "\n",
    "text = 'The Elephant Tries To Cross The River With The Baby 245'\n",
    "\n",
    "if re.match(r'.*[a-zA-Z0-9]$', text):\n",
    "    print(f\"'{text}' ends with an alphanumeric character\")\n",
    "else:\n",
    "    print(f\"'{text}' does not end with an alphanumeric character\")\n"
   ]
  },
  {
   "cell_type": "code",
   "execution_count": null,
   "id": "0da3456a",
   "metadata": {},
   "outputs": [],
   "source": []
  },
  {
   "cell_type": "markdown",
   "id": "4f88f665",
   "metadata": {},
   "source": [
    "Question 27-Write a python program using RegEx to extract the hashtags.\n",
    "Sample Text: text = \"\"\"RT @kapil_kausik: #Doltiwal I mean #xyzabc is \"hurt\" by #Demonetization as the same has rendered USELESS <ed><U+00A0><U+00BD><ed><U+00B1><U+0089> \"acquired funds\" No wo\"\"\"\n"
   ]
  },
  {
   "cell_type": "code",
   "execution_count": 34,
   "id": "df1f70f8",
   "metadata": {},
   "outputs": [
    {
     "name": "stdout",
     "output_type": "stream",
     "text": [
      "Hashtags in 'RT @kapil_kausik: #Doltiwal I mean #xyzabc is \"hurt\" by #Demonetization as the same has rendered USELESS <ed><U+00A0><U+00BD><ed><U+00B1><U+0089> \"acquired funds\" No wo': ['#Doltiwal', '#xyzabc', '#Demonetization']\n"
     ]
    }
   ],
   "source": [
    "import re\n",
    "\n",
    "text = 'RT @kapil_kausik: #Doltiwal I mean #xyzabc is \"hurt\" by #Demonetization as the same has rendered USELESS <ed><U+00A0><U+00BD><ed><U+00B1><U+0089> \"acquired funds\" No wo'\n",
    "\n",
    "matches = re.findall(r'#\\w+', text)\n",
    "if matches:\n",
    "    print(f\"Hashtags in '{text}': {matches}\")\n",
    "else:\n",
    "    print(f\"No hashtags found in '{text}'\")\n"
   ]
  },
  {
   "cell_type": "code",
   "execution_count": null,
   "id": "f0ffdadf",
   "metadata": {},
   "outputs": [],
   "source": []
  },
  {
   "cell_type": "markdown",
   "id": "57c2a1be",
   "metadata": {},
   "source": [
    "Question 28- Write a python program using RegEx to remove <U+..> like symbols\n",
    "Check the below sample text, there are strange symbols something of the sort <U+..> all over the place. You need to come up with a general Regex expression that will cover all such symbols.\n",
    "Sample Text: \"@Jags123456 Bharat band on 28??<ed><U+00A0><U+00BD><ed><U+00B8><U+0082>Those who  are protesting #demonetization  are all different party leaders\"\n"
   ]
  },
  {
   "cell_type": "code",
   "execution_count": 36,
   "id": "23fbb73d",
   "metadata": {},
   "outputs": [
    {
     "name": "stdout",
     "output_type": "stream",
     "text": [
      "Original text: @Jags123456 Bharat band on 28??<ed><U+00A0><U+00BD><ed><U+00B8><U+0082>Those who are protesting #demonetization are all different party leaders\n",
      "New text: @Jags123456 Bharat band on 28??<ed><ed>Those who are protesting #demonetization are all different party leaders\n"
     ]
    }
   ],
   "source": [
    "import re\n",
    "\n",
    "text = '@Jags123456 Bharat band on 28??<ed><U+00A0><U+00BD><ed><U+00B8><U+0082>Those who are protesting #demonetization are all different party leaders'\n",
    "\n",
    "new_text = re.sub(r'<U\\+\\w{4}>', '', text)\n",
    "print(f\"Original text: {text}\")\n",
    "\n",
    "print(f\"New text: {new_text}\")\n"
   ]
  },
  {
   "cell_type": "code",
   "execution_count": null,
   "id": "6909358d",
   "metadata": {},
   "outputs": [],
   "source": []
  },
  {
   "cell_type": "markdown",
   "id": "56f78550",
   "metadata": {},
   "source": [
    "Question 30- Write a Python program to replace all occurrences of a space, comma, or dot with a colon.\n",
    "Sample Text- 'Python Exercises, PHP exercises\n"
   ]
  },
  {
   "cell_type": "code",
   "execution_count": 38,
   "id": "4bda80b6",
   "metadata": {},
   "outputs": [
    {
     "name": "stdout",
     "output_type": "stream",
     "text": [
      "Python:Exercises::PHP:exercises:\n"
     ]
    }
   ],
   "source": [
    "text = 'Python Exercises, PHP exercises.'\n",
    "new_text = text.replace(' ', ':').replace(',', ':').replace('.', ':')\n",
    "print(new_text)\n"
   ]
  },
  {
   "cell_type": "code",
   "execution_count": null,
   "id": "66f12fa1",
   "metadata": {},
   "outputs": [],
   "source": []
  }
 ],
 "metadata": {
  "kernelspec": {
   "display_name": "Python 3 (ipykernel)",
   "language": "python",
   "name": "python3"
  },
  "language_info": {
   "codemirror_mode": {
    "name": "ipython",
    "version": 3
   },
   "file_extension": ".py",
   "mimetype": "text/x-python",
   "name": "python",
   "nbconvert_exporter": "python",
   "pygments_lexer": "ipython3",
   "version": "3.9.12"
  }
 },
 "nbformat": 4,
 "nbformat_minor": 5
}
